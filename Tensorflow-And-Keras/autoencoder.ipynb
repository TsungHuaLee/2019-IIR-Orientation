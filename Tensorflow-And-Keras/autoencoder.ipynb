{
 "cells": [
  {
   "cell_type": "code",
   "execution_count": 1,
   "metadata": {},
   "outputs": [],
   "source": [
    "import tensorflow as tf\n",
    "import numpy as np\n",
    "import random\n",
    "from matplotlib import pyplot as plt\n",
    "import matplotlib\n",
    "import os\n",
    "(train_images, train_labels), (test_images, test_labels) = tf.keras.datasets.mnist.load_data()"
   ]
  },
  {
   "cell_type": "code",
   "execution_count": 2,
   "metadata": {},
   "outputs": [
    {
     "data": {
      "text/plain": [
       "'1.14.0'"
      ]
     },
     "execution_count": 2,
     "metadata": {},
     "output_type": "execute_result"
    }
   ],
   "source": [
    "tf.__version__"
   ]
  },
  {
   "cell_type": "code",
   "execution_count": 3,
   "metadata": {},
   "outputs": [
    {
     "name": "stdout",
     "output_type": "stream",
     "text": [
      "[[ 2.  4.  6.]\n",
      " [ 8. 10. 12.]]\n"
     ]
    }
   ],
   "source": [
    "with tf.device('/gpu:0'):\n",
    "    a = tf.constant([1.0, 2.0, 3.0, 4.0, 5.0, 6.0], shape=[2, 3], name='a')\n",
    "    b = tf.constant([1.0, 2.0, 3.0, 4.0, 5.0, 6.0], shape=[2, 3], name='b')\n",
    "    c = tf.add(a, b)\n",
    "\n",
    "with tf.Session() as sess:\n",
    "    print (sess.run(c))"
   ]
  },
  {
   "cell_type": "code",
   "execution_count": 4,
   "metadata": {},
   "outputs": [],
   "source": [
    "noise_factor = 0.5\n",
    "train_images_noisy = train_images + noise_factor * np.random.normal(loc=0.0, scale=1.0, size=train_images.shape)  \n",
    "test_images_noisy = test_images + noise_factor * np.random.normal(loc=0.0, scale=1.0, size=test_images.shape) \n",
    "# numpy.random.normal 函數裡的三個參數分别代表生成的高斯分布的均值、標準差以及輸出的 size\n",
    "\n",
    "train_images_noisy = np.clip(train_images_noisy, 0., 1.)  # 把 array 限制在一定範圍内\n",
    "test_images_noisy = np.clip(test_images_noisy, 0., 1.)"
   ]
  },
  {
   "cell_type": "code",
   "execution_count": 5,
   "metadata": {},
   "outputs": [
    {
     "data": {
      "text/plain": [
       "<matplotlib.image.AxesImage at 0x7fac94461908>"
      ]
     },
     "execution_count": 5,
     "metadata": {},
     "output_type": "execute_result"
    },
    {
     "data": {
      "image/png": "[encoded data removed]",
      "text/plain": [
       "<Figure size 144x144 with 4 Axes>"
      ]
     },
     "metadata": {
      "needs_background": "light"
     },
     "output_type": "display_data"
    }
   ],
   "source": [
    "fig = plt.figure(figsize=(2, 2))\n",
    "fig.add_subplot(2, 2, 1)\n",
    "plt.imshow(train_images_noisy[0], cmap=\"gray\")\n",
    "fig.add_subplot(2, 2, 2)\n",
    "plt.imshow(train_images[0], cmap=\"gray\")\n",
    "\n",
    "fig.add_subplot(2, 2, 3)\n",
    "plt.imshow(test_images_noisy[0], cmap=\"gray\")\n",
    "fig.add_subplot(2, 2, 4)\n",
    "plt.imshow(test_images[0], cmap=\"gray\")\n"
   ]
  },
  {
   "cell_type": "code",
   "execution_count": 6,
   "metadata": {},
   "outputs": [
    {
     "name": "stdout",
     "output_type": "stream",
     "text": [
      "(60000, 784)\n",
      "(60000,)\n",
      "(10000, 784)\n",
      "(10000,)\n"
     ]
    }
   ],
   "source": [
    "# pre-process\n",
    "TRAINING_SIZE = len(train_images)\n",
    "TEST_SIZE = len(test_images)\n",
    "\n",
    "# keep original test image as copy \n",
    "o_test_images = test_images\n",
    "\n",
    "# Reshape from (N, 28, 28) to (N, 784)\n",
    "train_images = np.reshape(train_images, (TRAINING_SIZE, 784))\n",
    "test_images = np.reshape(test_images, (TEST_SIZE, 784))\n",
    "train_images_noisy = np.reshape(train_images_noisy, (TRAINING_SIZE, 784))\n",
    "test_images_noisy = np.reshape(test_images_noisy, (TEST_SIZE, 784))\n",
    "\n",
    "# Convert the array to float32 as opposed to uint8\n",
    "train_images = train_images.astype(np.float32)\n",
    "test_images = test_images.astype(np.float32)\n",
    "train_images_noisy = train_images_noisy.astype(np.float32)\n",
    "test_images_noisy = test_images_noisy.astype(np.float32)\n",
    "\n",
    "# Convert the pixel values from integers between 0 and 255 to floats between 0 and 1\n",
    "train_images /= 255\n",
    "test_images /=  255\n",
    "train_images_noisy /= 255\n",
    "test_images_noisy /= 255\n",
    "\n",
    "print(train_images.shape)\n",
    "print(train_labels.shape)\n",
    "print(test_images.shape)\n",
    "print(test_labels.shape)"
   ]
  },
  {
   "cell_type": "code",
   "execution_count": 7,
   "metadata": {},
   "outputs": [],
   "source": [
    "def add_layer(inputs, in_size, out_size, activation_function=None):\n",
    "  Weights = tf.Variable(tf.truncated_normal(shape=(in_size,out_size) , mean=0 , stddev=0.3 ))\n",
    "  biases = tf.Variable(tf.zeros(shape=(out_size)) + 0.1)\n",
    "  Wx_plus_b = tf.matmul(inputs, Weights) + biases\n",
    "  if activation_function is None:\n",
    "    output = Wx_plus_b\n",
    "  else:\n",
    "    output = activation_function(Wx_plus_b)\n",
    "  return output"
   ]
  },
  {
   "cell_type": "code",
   "execution_count": 8,
   "metadata": {},
   "outputs": [],
   "source": [
    "# Build Model\n",
    "x = tf.placeholder(tf.float32 , shape=(None,784))\n",
    "y = tf.placeholder(tf.float32 , shape=(None,784))\n",
    "layer_1 = add_layer(x , 784 , 128 , tf.nn.sigmoid)\n",
    "layer_2 = add_layer(layer_1 , 128 , 10 , tf.nn.sigmoid)\n",
    "layer_3 = add_layer(layer_2 , 10 , 2 , tf.nn.sigmoid)\n",
    "layer_4 = add_layer(layer_3 , 2 , 10 , tf.nn.sigmoid)\n",
    "layer_5 = add_layer(layer_4 , 10 , 128 , tf.nn.sigmoid)\n",
    "output_layer = add_layer(layer_5 , 128 , 784 , tf.nn.sigmoid)"
   ]
  },
  {
   "cell_type": "code",
   "execution_count": 9,
   "metadata": {},
   "outputs": [],
   "source": [
    "loss = tf.reduce_mean(tf.pow(output_layer - y, 2))"
   ]
  },
  {
   "cell_type": "code",
   "execution_count": 10,
   "metadata": {},
   "outputs": [
    {
     "name": "stderr",
     "output_type": "stream",
     "text": [
      "WARNING: Logging before flag parsing goes to stderr.\n",
      "W0911 00:13:14.540718 140381577058112 deprecation.py:323] From /home/tsung/miniconda3/envs/myenv/lib/python3.6/site-packages/tensorflow/python/ops/math_grad.py:1205: add_dispatch_support.<locals>.wrapper (from tensorflow.python.ops.array_ops) is deprecated and will be removed in a future version.\n",
      "Instructions for updating:\n",
      "Use tf.where in 2.0, which has the same broadcast rule as np.where\n"
     ]
    }
   ],
   "source": [
    "#optimizer = tf.train.RMSPropOptimizer(learning_rate = 0.01).minimize(loss)\n",
    "optimizer = tf.train.AdamOptimizer(learning_rate = 0.01).minimize(loss)"
   ]
  },
  {
   "cell_type": "code",
   "execution_count": 11,
   "metadata": {},
   "outputs": [],
   "source": [
    "epochs = 30\n",
    "batch_size = 256\n",
    "example_to_show = 10\n",
    "sess = tf.Session()\n",
    "sess.run(tf.global_variables_initializer())"
   ]
  },
  {
   "cell_type": "code",
   "execution_count": 12,
   "metadata": {},
   "outputs": [
    {
     "name": "stdout",
     "output_type": "stream",
     "text": [
      "epoch 0 , loss =  0.064885326\n",
      "epoch 1 , loss =  0.055311743\n",
      "epoch 2 , loss =  0.059940338\n",
      "epoch 3 , loss =  0.052702487\n",
      "epoch 4 , loss =  0.051473767\n",
      "epoch 5 , loss =  0.051664118\n",
      "epoch 6 , loss =  0.051285055\n",
      "epoch 7 , loss =  0.053950652\n",
      "epoch 8 , loss =  0.048978753\n",
      "epoch 9 , loss =  0.049029004\n",
      "epoch 10 , loss =  0.050654937\n",
      "epoch 11 , loss =  0.046866626\n",
      "epoch 12 , loss =  0.04938315\n",
      "epoch 13 , loss =  0.04598256\n",
      "epoch 14 , loss =  0.05138817\n",
      "epoch 15 , loss =  0.048313323\n",
      "epoch 16 , loss =  0.048611853\n",
      "epoch 17 , loss =  0.04929036\n",
      "epoch 18 , loss =  0.044790585\n",
      "epoch 19 , loss =  0.045821074\n",
      "epoch 20 , loss =  0.046755686\n",
      "epoch 21 , loss =  0.046763062\n",
      "epoch 22 , loss =  0.04765436\n",
      "epoch 23 , loss =  0.04899395\n",
      "epoch 24 , loss =  0.042390183\n",
      "epoch 25 , loss =  0.04576641\n",
      "epoch 26 , loss =  0.042783126\n",
      "epoch 27 , loss =  0.047526125\n",
      "epoch 28 , loss =  0.043560985\n",
      "epoch 29 , loss =  0.04595337\n"
     ]
    }
   ],
   "source": [
    "for epoch in range(epochs):\n",
    "  index = [i for i in range(train_images.shape[0])]\n",
    "  random.shuffle(index)\n",
    "  while len(index)>0:\n",
    "    index_size = len(index)\n",
    "    batch_index = [index.pop() for _ in range(min(batch_size,index_size))]\n",
    "    batch_x = train_images[batch_index]\n",
    "    batch_y = train_images[batch_index]\n",
    "    sess.run(optimizer , feed_dict={\n",
    "                            x:batch_x,\n",
    "                            y:batch_y\n",
    "                        })\n",
    "\n",
    "  print(\"epoch\", epoch,\", loss = \", \n",
    "                sess.run(loss ,\n",
    "                        feed_dict={\n",
    "                            x:batch_x,\n",
    "                            y:batch_y\n",
    "                        }) \n",
    "       )"
   ]
  },
  {
   "cell_type": "code",
   "execution_count": 13,
   "metadata": {},
   "outputs": [
    {
     "name": "stdout",
     "output_type": "stream",
     "text": [
      "(10, 784)\n"
     ]
    }
   ],
   "source": [
    "batch_x = test_images[:example_to_show]\n",
    "batch_y = test_images[:example_to_show]\n",
    "output_nd = sess.run(output_layer ,\n",
    "                feed_dict={\n",
    "                        x:batch_x,\n",
    "                        y:batch_y\n",
    "                   }) \n",
    "print(output_nd.shape)"
   ]
  },
  {
   "cell_type": "code",
   "execution_count": 14,
   "metadata": {},
   "outputs": [
    {
     "data": {
      "image/png": "[encoded data removed]",
      "text/plain": [
       "<Figure size 720x144 with 20 Axes>"
      ]
     },
     "metadata": {
      "needs_background": "light"
     },
     "output_type": "display_data"
    }
   ],
   "source": [
    "fig, axis = plt.subplots(2, example_to_show, figsize=(example_to_show, 2))\n",
    "for i in range(0, example_to_show):\n",
    "    img_original = np.reshape(batch_x[i], (28, 28))\n",
    "    axis[0][i].imshow(img_original, cmap='gray')\n",
    "    img = np.reshape(output_nd[i], (28, 28))\n",
    "    axis[1][i].imshow(img, cmap='gray')\n",
    "plt.show()"
   ]
  },
  {
   "cell_type": "code",
   "execution_count": 15,
   "metadata": {},
   "outputs": [
    {
     "name": "stdout",
     "output_type": "stream",
     "text": [
      "(10000, 2)\n"
     ]
    },
    {
     "data": {
      "image/png": "[encoded data removed]",
      "text/plain": [
       "<Figure size 432x288 with 2 Axes>"
      ]
     },
     "metadata": {
      "needs_background": "light"
     },
     "output_type": "display_data"
    }
   ],
   "source": [
    "encoder_result = sess.run(layer_3, feed_dict={x: test_images, y:test_images})\n",
    "print(encoder_result.shape)\n",
    "plt.scatter(encoder_result[:, 0], encoder_result[:, 1], c=test_labels[:])\n",
    "plt.colorbar()\n",
    "plt.show()"
   ]
  },
  {
   "cell_type": "code",
   "execution_count": null,
   "metadata": {},
   "outputs": [],
   "source": []
  }
 ],
 "metadata": {
  "kernelspec": {
   "display_name": "Python 3",
   "language": "python",
   "name": "python3"
  },
  "language_info": {
   "codemirror_mode": {
    "name": "ipython",
    "version": 3
   },
   "file_extension": ".py",
   "mimetype": "text/x-python",
   "name": "python",
   "nbconvert_exporter": "python",
   "pygments_lexer": "ipython3",
   "version": "3.6.7"
  }
 },
 "nbformat": 4,
 "nbformat_minor": 2
}
